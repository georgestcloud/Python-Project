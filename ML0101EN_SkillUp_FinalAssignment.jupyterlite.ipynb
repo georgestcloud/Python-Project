{
 "cells": [
  {
   "cell_type": "markdown",
   "metadata": {},
   "source": [
    "<p style=\"text-align:center\">\n",
    "    <a href=\"https://skills.network/?utm_medium=Exinfluencer&utm_source=Exinfluencer&utm_content=000026UJ&utm_term=10006555&utm_id=NA-SkillsNetwork-Channel-SkillsNetworkCoursesIBMDeveloperSkillsNetworkML0101ENSkillsNetwork20718538-2022-01-01\" target=\"_blank\">\n",
    "    <img src=\"https://cf-courses-data.s3.us.cloud-object-storage.appdomain.cloud/assets/logos/SN_web_lightmode.png\" width=\"200\" alt=\"Skills Network Logo\">\n",
    "    </a>\n",
    "</p>\n",
    "\n",
    "<h1 align=\"center\"><font size=\"5\">Final Project: Classification with Python</font></h1>\n"
   ]
  },
  {
   "cell_type": "markdown",
   "metadata": {},
   "source": [
    "<h2>Table of Contents</h2>\n",
    "<div class=\"alert alert-block alert-info\" style=\"margin-top: 20px\">\n",
    "    <ul>\n",
    "    <li><a href=\"https://#Section_1\">Instructions</a></li>\n",
    "    <li><a href=\"https://#Section_2\">About the Data</a></li>\n",
    "    <li><a href=\"https://#Section_3\">Importing Data </a></li>\n",
    "    <li><a href=\"https://#Section_4\">Data Preprocessing</a> </li>\n",
    "    <li><a href=\"https://#Section_5\">One Hot Encoding </a></li>\n",
    "    <li><a href=\"https://#Section_6\">Train and Test Data Split </a></li>\n",
    "    <li><a href=\"https://#Section_7\">Train Logistic Regression, KNN, Decision Tree, SVM, and Linear Regression models and return their appropriate accuracy scores</a></li>\n",
    "</a></li>\n",
    "</div>\n",
    "<p>Estimated Time Needed: <strong>180 min</strong></p>\n",
    "</div>\n",
    "\n",
    "<hr>\n"
   ]
  },
  {
   "cell_type": "markdown",
   "metadata": {},
   "source": [
    "# Instructions\n"
   ]
  },
  {
   "cell_type": "markdown",
   "metadata": {},
   "source": [
    "In this notebook, you will  practice all the classification algorithms that we have learned in this course.\n",
    "\n",
    "\n",
    "Below, is where we are going to use the classification algorithms to create a model based on our training data and evaluate our testing data using evaluation metrics learned in the course.\n",
    "\n",
    "We will use some of the algorithms taught in the course, specifically:\n",
    "\n",
    "1. Linear Regression\n",
    "2. KNN\n",
    "3. Decision Trees\n",
    "4. Logistic Regression\n",
    "5. SVM\n",
    "\n",
    "We will evaluate our models using:\n",
    "\n",
    "1.  Accuracy Score\n",
    "2.  Jaccard Index\n",
    "3.  F1-Score\n",
    "4.  LogLoss\n",
    "5.  Mean Absolute Error\n",
    "6.  Mean Squared Error\n",
    "7.  R2-Score\n",
    "\n",
    "Finally, you will use your models to generate the report at the end. \n"
   ]
  },
  {
   "cell_type": "markdown",
   "metadata": {},
   "source": [
    "# About The Dataset\n"
   ]
  },
  {
   "cell_type": "markdown",
   "metadata": {},
   "source": [
    "The original source of the data is Australian Government's Bureau of Meteorology and the latest data can be gathered from [http://www.bom.gov.au/climate/dwo/](http://www.bom.gov.au/climate/dwo/?utm_medium=Exinfluencer&utm_source=Exinfluencer&utm_content=000026UJ&utm_term=10006555&utm_id=NA-SkillsNetwork-Channel-SkillsNetworkCoursesIBMDeveloperSkillsNetworkML0101ENSkillsNetwork20718538-2022-01-01).\n",
    "\n",
    "The dataset to be used has extra columns like 'RainToday' and our target is 'RainTomorrow', which was gathered from the Rattle at [https://bitbucket.org/kayontoga/rattle/src/master/data/weatherAUS.RData](https://bitbucket.org/kayontoga/rattle/src/master/data/weatherAUS.RData?utm_medium=Exinfluencer&utm_source=Exinfluencer&utm_content=000026UJ&utm_term=10006555&utm_id=NA-SkillsNetwork-Channel-SkillsNetworkCoursesIBMDeveloperSkillsNetworkML0101ENSkillsNetwork20718538-2022-01-01)\n",
    "\n",
    "\n"
   ]
  },
  {
   "cell_type": "markdown",
   "metadata": {},
   "source": [
    "This dataset contains observations of weather metrics for each day from 2008 to 2017. The **weatherAUS.csv** dataset includes the following fields:\n",
    "\n",
    "| Field         | Description                                           | Unit            | Type   |\n",
    "| ------------- | ----------------------------------------------------- | --------------- | ------ |\n",
    "| Date          | Date of the Observation in YYYY-MM-DD                 | Date            | object |\n",
    "| Location      | Location of the Observation                           | Location        | object |\n",
    "| MinTemp       | Minimum temperature                                   | Celsius         | float  |\n",
    "| MaxTemp       | Maximum temperature                                   | Celsius         | float  |\n",
    "| Rainfall      | Amount of rainfall                                    | Millimeters     | float  |\n",
    "| Evaporation   | Amount of evaporation                                 | Millimeters     | float  |\n",
    "| Sunshine      | Amount of bright sunshine                             | hours           | float  |\n",
    "| WindGustDir   | Direction of the strongest gust                       | Compass Points  | object |\n",
    "| WindGustSpeed | Speed of the strongest gust                           | Kilometers/Hour | object |\n",
    "| WindDir9am    | Wind direction averaged of 10 minutes prior to 9am    | Compass Points  | object |\n",
    "| WindDir3pm    | Wind direction averaged of 10 minutes prior to 3pm    | Compass Points  | object |\n",
    "| WindSpeed9am  | Wind speed averaged of 10 minutes prior to 9am        | Kilometers/Hour | float  |\n",
    "| WindSpeed3pm  | Wind speed averaged of 10 minutes prior to 3pm        | Kilometers/Hour | float  |\n",
    "| Humidity9am   | Humidity at 9am                                       | Percent         | float  |\n",
    "| Humidity3pm   | Humidity at 3pm                                       | Percent         | float  |\n",
    "| Pressure9am   | Atmospheric pressure reduced to mean sea level at 9am | Hectopascal     | float  |\n",
    "| Pressure3pm   | Atmospheric pressure reduced to mean sea level at 3pm | Hectopascal     | float  |\n",
    "| Cloud9am      | Fraction of the sky obscured by cloud at 9am          | Eights          | float  |\n",
    "| Cloud3pm      | Fraction of the sky obscured by cloud at 3pm          | Eights          | float  |\n",
    "| Temp9am       | Temperature at 9am                                    | Celsius         | float  |\n",
    "| Temp3pm       | Temperature at 3pm                                    | Celsius         | float  |\n",
    "| RainToday     | If there was rain today                               | Yes/No          | object |\n",
    "| RainTomorrow  | If there is rain tomorrow                             | Yes/No          | float  |\n",
    "\n",
    "Column definitions were gathered from [http://www.bom.gov.au/climate/dwo/IDCJDW0000.shtml](http://www.bom.gov.au/climate/dwo/IDCJDW0000.shtml?utm_medium=Exinfluencer&utm_source=Exinfluencer&utm_content=000026UJ&utm_term=10006555&utm_id=NA-SkillsNetwork-Channel-SkillsNetworkCoursesIBMDeveloperSkillsNetworkML0101ENSkillsNetwork20718538-2022-01-01)\n",
    "\n"
   ]
  },
  {
   "cell_type": "markdown",
   "metadata": {},
   "source": [
    "## **Import the required libraries**\n"
   ]
  },
  {
   "cell_type": "code",
   "execution_count": null,
   "metadata": {},
   "outputs": [],
   "source": [
    "# All Libraries required for this lab are listed below. The libraries pre-installed on Skills Network Labs are commented.\n",
    "# !mamba install -qy pandas==1.3.4 numpy==1.21.4 seaborn==0.9.0 matplotlib==3.5.0 scikit-learn==0.20.1\n",
    "# Note: If your environment doesn't support \"!mamba install\", use \"!pip install\""
   ]
  },
  {
   "cell_type": "code",
   "execution_count": null,
   "metadata": {},
   "outputs": [],
   "source": [
    "# Surpress warnings:\n",
    "def warn(*args, **kwargs):\n",
    "    pass\n",
    "import warnings\n",
    "warnings.warn = warn"
   ]
  },
  {
   "cell_type": "code",
   "execution_count": 8,
   "metadata": {},
   "outputs": [
    {
     "ename": "ModuleNotFoundError",
     "evalue": "No module named 'piplite'",
     "output_type": "error",
     "traceback": [
      "\u001b[1;31m---------------------------------------------------------------------------\u001b[0m",
      "\u001b[1;31mModuleNotFoundError\u001b[0m                       Traceback (most recent call last)",
      "Cell \u001b[1;32mIn[8], line 2\u001b[0m\n\u001b[0;32m      1\u001b[0m \u001b[38;5;66;03m#you are running the lab in your  browser, so we will install the libraries using ``piplite``\u001b[39;00m\n\u001b[1;32m----> 2\u001b[0m \u001b[38;5;28;01mimport\u001b[39;00m \u001b[38;5;21;01mpiplite\u001b[39;00m\n\u001b[0;32m      3\u001b[0m \u001b[38;5;28;01mawait\u001b[39;00m piplite\u001b[38;5;241m.\u001b[39minstall([\u001b[38;5;124m'\u001b[39m\u001b[38;5;124mpandas\u001b[39m\u001b[38;5;124m'\u001b[39m])\n\u001b[0;32m      4\u001b[0m \u001b[38;5;28;01mawait\u001b[39;00m piplite\u001b[38;5;241m.\u001b[39minstall([\u001b[38;5;124m'\u001b[39m\u001b[38;5;124mnumpy\u001b[39m\u001b[38;5;124m'\u001b[39m])\n",
      "\u001b[1;31mModuleNotFoundError\u001b[0m: No module named 'piplite'"
     ]
    }
   ],
   "source": [
    "#you are running the lab in your  browser, so we will install the libraries using ``piplite``\n",
    "import piplite\n",
    "await piplite.install(['pandas'])\n",
    "await piplite.install(['numpy'])\n"
   ]
  },
  {
   "cell_type": "code",
   "execution_count": 9,
   "metadata": {},
   "outputs": [],
   "source": [
    "import pandas as pd\n",
    "from sklearn.linear_model import LogisticRegression\n",
    "from sklearn.linear_model import LinearRegression\n",
    "from sklearn import preprocessing\n",
    "import numpy as np\n",
    "from sklearn.neighbors import KNeighborsClassifier\n",
    "from sklearn.model_selection import train_test_split\n",
    "from sklearn.neighbors import KNeighborsClassifier\n",
    "from sklearn.tree import DecisionTreeClassifier\n",
    "from sklearn import svm\n",
    "from sklearn.metrics import jaccard_score\n",
    "from sklearn.metrics import f1_score\n",
    "from sklearn.metrics import log_loss\n",
    "from sklearn.metrics import confusion_matrix, accuracy_score\n",
    "import sklearn.metrics as metrics"
   ]
  },
  {
   "cell_type": "markdown",
   "metadata": {},
   "source": [
    "### Importing the Dataset\n"
   ]
  },
  {
   "cell_type": "code",
   "execution_count": null,
   "metadata": {},
   "outputs": [],
   "source": [
    "from pyodide.http import pyfetch\n",
    "\n",
    "async def download(url, filename):\n",
    "    response = await pyfetch(url)\n",
    "    if response.status == 200:\n",
    "        with open(filename, \"wb\") as f:\n",
    "            f.write(await response.bytes())"
   ]
  },
  {
   "cell_type": "code",
   "execution_count": null,
   "metadata": {},
   "outputs": [],
   "source": [
    "path='https://cf-courses-data.s3.us.cloud-object-storage.appdomain.cloud/IBMDeveloperSkillsNetwork-ML0101EN-SkillUp/labs/ML-FinalAssignment/Weather_Data.csv'"
   ]
  },
  {
   "cell_type": "code",
   "execution_count": null,
   "metadata": {},
   "outputs": [],
   "source": [
    "await download(path, \"Weather_Data.csv\")\n",
    "filename =\"Weather_Data.csv\""
   ]
  },
  {
   "cell_type": "code",
   "execution_count": 18,
   "metadata": {},
   "outputs": [
    {
     "name": "stdout",
     "output_type": "stream",
     "text": [
      "       Date  MinTemp  MaxTemp  Rainfall  Evaporation  Sunshine WindGustDir  \\\n",
      "0  2/1/2008     19.5     22.4      15.6          6.2       0.0           W   \n",
      "1  2/2/2008     19.5     25.6       6.0          3.4       2.7           W   \n",
      "2  2/3/2008     21.6     24.5       6.6          2.4       0.1           W   \n",
      "3  2/4/2008     20.2     22.8      18.8          2.2       0.0           W   \n",
      "4  2/5/2008     19.7     25.7      77.4          4.8       0.0           W   \n",
      "\n",
      "   WindGustSpeed WindDir9am WindDir3pm  ...  Humidity9am  Humidity3pm  \\\n",
      "0             41          S        SSW  ...           92           84   \n",
      "1             41          W          E  ...           83           73   \n",
      "2             41        ESE        ESE  ...           88           86   \n",
      "3             41        NNE          E  ...           83           90   \n",
      "4             41        NNE          W  ...           88           74   \n",
      "\n",
      "   Pressure9am  Pressure3pm  Cloud9am  Cloud3pm  Temp9am  Temp3pm  RainToday  \\\n",
      "0       1017.6       1017.4         8         8     20.7     20.9        Yes   \n",
      "1       1017.9       1016.4         7         7     22.4     24.8        Yes   \n",
      "2       1016.7       1015.6         7         8     23.5     23.0        Yes   \n",
      "3       1014.2       1011.8         8         8     21.4     20.9        Yes   \n",
      "4       1008.3       1004.8         8         8     22.5     25.5        Yes   \n",
      "\n",
      "   RainTomorrow  \n",
      "0           Yes  \n",
      "1           Yes  \n",
      "2           Yes  \n",
      "3           Yes  \n",
      "4           Yes  \n",
      "\n",
      "[5 rows x 22 columns]\n"
     ]
    }
   ],
   "source": [
    "import pandas as pd\n",
    "\n",
    "file_path = 'https://cf-courses-data.s3.us.cloud-object-storage.appdomain.cloud/IBMDeveloperSkillsNetwork-ML0101EN-SkillUp/labs/ML-FinalAssignment/Weather_Data.csv'\n",
    "df = pd.read_csv(file_path)\n",
    "print(df.head())"
   ]
  },
  {
   "cell_type": "markdown",
   "metadata": {},
   "source": [
    "### Data Preprocessing\n"
   ]
  },
  {
   "cell_type": "markdown",
   "metadata": {},
   "source": [
    "#### One Hot Encoding\n"
   ]
  },
  {
   "cell_type": "markdown",
   "metadata": {},
   "source": [
    "First, we need to perform one hot encoding to convert categorical variables to binary variables.\n"
   ]
  },
  {
   "cell_type": "code",
   "execution_count": 11,
   "metadata": {},
   "outputs": [],
   "source": [
    "import pandas as pd\n",
    "categorical_columns = ['RainToday', 'WindGustDir', 'WindDir9am', 'WindDir3pm']\n",
    "df_encoded = pd.get_dummies(df, columns=categorical_columns)"
   ]
  },
  {
   "cell_type": "markdown",
   "metadata": {},
   "source": [
    "Next, we replace the values of the 'RainTomorrow' column changing them from a categorical column to a binary column. We do not use the `get_dummies` method because we would end up with two columns for 'RainTomorrow' and we do not want, since 'RainTomorrow' is our target.\n"
   ]
  },
  {
   "cell_type": "code",
   "execution_count": 121,
   "metadata": {},
   "outputs": [],
   "source": [
    "categorical_columns = ['RainToday', 'WindGustDir', 'WindDir9am', 'WindDir3pm']\n",
    "df['RainTomorrow'] = df['RainTomorrow'].map({'No': 0, 'Yes': 1})"
   ]
  },
  {
   "cell_type": "markdown",
   "metadata": {},
   "source": [
    "### Training Data and Test Data\n"
   ]
  },
  {
   "cell_type": "markdown",
   "metadata": {},
   "source": [
    "Now, we set our 'features' or x values and our Y or target variable.\n"
   ]
  },
  {
   "cell_type": "code",
   "execution_count": 78,
   "metadata": {},
   "outputs": [],
   "source": [
    "df.drop('Date',axis=1,inplace=True)"
   ]
  },
  {
   "cell_type": "code",
   "execution_count": 22,
   "metadata": {},
   "outputs": [],
   "source": [
    "features = df.drop(columns='RainTomorrow', axis=1)\n",
    "Y = df['RainTomorrow']"
   ]
  },
  {
   "cell_type": "code",
   "execution_count": 101,
   "metadata": {},
   "outputs": [
    {
     "name": "stdout",
     "output_type": "stream",
     "text": [
      "Features (X):\n",
      "\n",
      "Target Variable (Y):\n"
     ]
    }
   ],
   "source": [
    "X = df.drop(columns=['RainTomorrow'])\n",
    "Y = df['RainTomorrow']\n",
    "\n",
    "print(\"Features (X):\")\n",
    "\n",
    "print(\"\\nTarget Variable (Y):\")"
   ]
  },
  {
   "cell_type": "markdown",
   "metadata": {},
   "source": [
    "### Linear Regression\n"
   ]
  },
  {
   "cell_type": "markdown",
   "metadata": {},
   "source": [
    "#### Q1) Use the `train_test_split` function to split the `features` and `Y` dataframes with a `test_size` of `0.2` and the `random_state` set to `10`.\n"
   ]
  },
  {
   "cell_type": "code",
   "execution_count": 33,
   "metadata": {},
   "outputs": [
    {
     "name": "stdout",
     "output_type": "stream",
     "text": [
      "X_train shape: (2616, 67)\n",
      "X_test shape: (655, 67)\n",
      "Y_train shape: (2616,)\n",
      "Y_test shape: (655,)\n"
     ]
    }
   ],
   "source": [
    "df_encoded['Date'] = (pd.to_datetime(df_encoded['Date']).astype('int64') // 10**9).astype('int32')\n",
    "\n",
    "X = df_encoded.drop(columns=['RainTomorrow'])\n",
    "Y = df_encoded['RainTomorrow'] \n",
    "X_train, X_test, Y_train, Y_test = train_test_split(X, Y, test_size=0.2, random_state=10)\n",
    "\n",
    "# Display the shapes of the training and testing sets\n",
    "print(\"X_train shape:\", X_train.shape)\n",
    "print(\"X_test shape:\", X_test.shape)\n",
    "print(\"Y_train shape:\", Y_train.shape)\n",
    "print(\"Y_test shape:\", Y_test.shape)"
   ]
  },
  {
   "cell_type": "code",
   "execution_count": null,
   "metadata": {},
   "outputs": [],
   "source": []
  },
  {
   "cell_type": "markdown",
   "metadata": {},
   "source": [
    "#### Q2) Create and train a Linear Regression model called LinearReg using the training data (`x_train`, `y_train`).\n"
   ]
  },
  {
   "cell_type": "code",
   "execution_count": 40,
   "metadata": {},
   "outputs": [
    {
     "data": {
      "text/html": [
       "<style>#sk-container-id-9 {color: black;}#sk-container-id-9 pre{padding: 0;}#sk-container-id-9 div.sk-toggleable {background-color: white;}#sk-container-id-9 label.sk-toggleable__label {cursor: pointer;display: block;width: 100%;margin-bottom: 0;padding: 0.3em;box-sizing: border-box;text-align: center;}#sk-container-id-9 label.sk-toggleable__label-arrow:before {content: \"▸\";float: left;margin-right: 0.25em;color: #696969;}#sk-container-id-9 label.sk-toggleable__label-arrow:hover:before {color: black;}#sk-container-id-9 div.sk-estimator:hover label.sk-toggleable__label-arrow:before {color: black;}#sk-container-id-9 div.sk-toggleable__content {max-height: 0;max-width: 0;overflow: hidden;text-align: left;background-color: #f0f8ff;}#sk-container-id-9 div.sk-toggleable__content pre {margin: 0.2em;color: black;border-radius: 0.25em;background-color: #f0f8ff;}#sk-container-id-9 input.sk-toggleable__control:checked~div.sk-toggleable__content {max-height: 200px;max-width: 100%;overflow: auto;}#sk-container-id-9 input.sk-toggleable__control:checked~label.sk-toggleable__label-arrow:before {content: \"▾\";}#sk-container-id-9 div.sk-estimator input.sk-toggleable__control:checked~label.sk-toggleable__label {background-color: #d4ebff;}#sk-container-id-9 div.sk-label input.sk-toggleable__control:checked~label.sk-toggleable__label {background-color: #d4ebff;}#sk-container-id-9 input.sk-hidden--visually {border: 0;clip: rect(1px 1px 1px 1px);clip: rect(1px, 1px, 1px, 1px);height: 1px;margin: -1px;overflow: hidden;padding: 0;position: absolute;width: 1px;}#sk-container-id-9 div.sk-estimator {font-family: monospace;background-color: #f0f8ff;border: 1px dotted black;border-radius: 0.25em;box-sizing: border-box;margin-bottom: 0.5em;}#sk-container-id-9 div.sk-estimator:hover {background-color: #d4ebff;}#sk-container-id-9 div.sk-parallel-item::after {content: \"\";width: 100%;border-bottom: 1px solid gray;flex-grow: 1;}#sk-container-id-9 div.sk-label:hover label.sk-toggleable__label {background-color: #d4ebff;}#sk-container-id-9 div.sk-serial::before {content: \"\";position: absolute;border-left: 1px solid gray;box-sizing: border-box;top: 0;bottom: 0;left: 50%;z-index: 0;}#sk-container-id-9 div.sk-serial {display: flex;flex-direction: column;align-items: center;background-color: white;padding-right: 0.2em;padding-left: 0.2em;position: relative;}#sk-container-id-9 div.sk-item {position: relative;z-index: 1;}#sk-container-id-9 div.sk-parallel {display: flex;align-items: stretch;justify-content: center;background-color: white;position: relative;}#sk-container-id-9 div.sk-item::before, #sk-container-id-9 div.sk-parallel-item::before {content: \"\";position: absolute;border-left: 1px solid gray;box-sizing: border-box;top: 0;bottom: 0;left: 50%;z-index: -1;}#sk-container-id-9 div.sk-parallel-item {display: flex;flex-direction: column;z-index: 1;position: relative;background-color: white;}#sk-container-id-9 div.sk-parallel-item:first-child::after {align-self: flex-end;width: 50%;}#sk-container-id-9 div.sk-parallel-item:last-child::after {align-self: flex-start;width: 50%;}#sk-container-id-9 div.sk-parallel-item:only-child::after {width: 0;}#sk-container-id-9 div.sk-dashed-wrapped {border: 1px dashed gray;margin: 0 0.4em 0.5em 0.4em;box-sizing: border-box;padding-bottom: 0.4em;background-color: white;}#sk-container-id-9 div.sk-label label {font-family: monospace;font-weight: bold;display: inline-block;line-height: 1.2em;}#sk-container-id-9 div.sk-label-container {text-align: center;}#sk-container-id-9 div.sk-container {/* jupyter's `normalize.less` sets `[hidden] { display: none; }` but bootstrap.min.css set `[hidden] { display: none !important; }` so we also need the `!important` here to be able to override the default hidden behavior on the sphinx rendered scikit-learn.org. See: https://github.com/scikit-learn/scikit-learn/issues/21755 */display: inline-block !important;position: relative;}#sk-container-id-9 div.sk-text-repr-fallback {display: none;}</style><div id=\"sk-container-id-9\" class=\"sk-top-container\"><div class=\"sk-text-repr-fallback\"><pre>LinearRegression()</pre><b>In a Jupyter environment, please rerun this cell to show the HTML representation or trust the notebook. <br />On GitHub, the HTML representation is unable to render, please try loading this page with nbviewer.org.</b></div><div class=\"sk-container\" hidden><div class=\"sk-item\"><div class=\"sk-estimator sk-toggleable\"><input class=\"sk-toggleable__control sk-hidden--visually\" id=\"sk-estimator-id-9\" type=\"checkbox\" checked><label for=\"sk-estimator-id-9\" class=\"sk-toggleable__label sk-toggleable__label-arrow\">LinearRegression</label><div class=\"sk-toggleable__content\"><pre>LinearRegression()</pre></div></div></div></div></div>"
      ],
      "text/plain": [
       "LinearRegression()"
      ]
     },
     "execution_count": 40,
     "metadata": {},
     "output_type": "execute_result"
    }
   ],
   "source": [
    "LinearReg = LinearRegression()\n",
    "LinearReg.fit(X_train, Y_train)\n"
   ]
  },
  {
   "cell_type": "code",
   "execution_count": 39,
   "metadata": {},
   "outputs": [
    {
     "data": {
      "text/html": [
       "<style>#sk-container-id-8 {color: black;}#sk-container-id-8 pre{padding: 0;}#sk-container-id-8 div.sk-toggleable {background-color: white;}#sk-container-id-8 label.sk-toggleable__label {cursor: pointer;display: block;width: 100%;margin-bottom: 0;padding: 0.3em;box-sizing: border-box;text-align: center;}#sk-container-id-8 label.sk-toggleable__label-arrow:before {content: \"▸\";float: left;margin-right: 0.25em;color: #696969;}#sk-container-id-8 label.sk-toggleable__label-arrow:hover:before {color: black;}#sk-container-id-8 div.sk-estimator:hover label.sk-toggleable__label-arrow:before {color: black;}#sk-container-id-8 div.sk-toggleable__content {max-height: 0;max-width: 0;overflow: hidden;text-align: left;background-color: #f0f8ff;}#sk-container-id-8 div.sk-toggleable__content pre {margin: 0.2em;color: black;border-radius: 0.25em;background-color: #f0f8ff;}#sk-container-id-8 input.sk-toggleable__control:checked~div.sk-toggleable__content {max-height: 200px;max-width: 100%;overflow: auto;}#sk-container-id-8 input.sk-toggleable__control:checked~label.sk-toggleable__label-arrow:before {content: \"▾\";}#sk-container-id-8 div.sk-estimator input.sk-toggleable__control:checked~label.sk-toggleable__label {background-color: #d4ebff;}#sk-container-id-8 div.sk-label input.sk-toggleable__control:checked~label.sk-toggleable__label {background-color: #d4ebff;}#sk-container-id-8 input.sk-hidden--visually {border: 0;clip: rect(1px 1px 1px 1px);clip: rect(1px, 1px, 1px, 1px);height: 1px;margin: -1px;overflow: hidden;padding: 0;position: absolute;width: 1px;}#sk-container-id-8 div.sk-estimator {font-family: monospace;background-color: #f0f8ff;border: 1px dotted black;border-radius: 0.25em;box-sizing: border-box;margin-bottom: 0.5em;}#sk-container-id-8 div.sk-estimator:hover {background-color: #d4ebff;}#sk-container-id-8 div.sk-parallel-item::after {content: \"\";width: 100%;border-bottom: 1px solid gray;flex-grow: 1;}#sk-container-id-8 div.sk-label:hover label.sk-toggleable__label {background-color: #d4ebff;}#sk-container-id-8 div.sk-serial::before {content: \"\";position: absolute;border-left: 1px solid gray;box-sizing: border-box;top: 0;bottom: 0;left: 50%;z-index: 0;}#sk-container-id-8 div.sk-serial {display: flex;flex-direction: column;align-items: center;background-color: white;padding-right: 0.2em;padding-left: 0.2em;position: relative;}#sk-container-id-8 div.sk-item {position: relative;z-index: 1;}#sk-container-id-8 div.sk-parallel {display: flex;align-items: stretch;justify-content: center;background-color: white;position: relative;}#sk-container-id-8 div.sk-item::before, #sk-container-id-8 div.sk-parallel-item::before {content: \"\";position: absolute;border-left: 1px solid gray;box-sizing: border-box;top: 0;bottom: 0;left: 50%;z-index: -1;}#sk-container-id-8 div.sk-parallel-item {display: flex;flex-direction: column;z-index: 1;position: relative;background-color: white;}#sk-container-id-8 div.sk-parallel-item:first-child::after {align-self: flex-end;width: 50%;}#sk-container-id-8 div.sk-parallel-item:last-child::after {align-self: flex-start;width: 50%;}#sk-container-id-8 div.sk-parallel-item:only-child::after {width: 0;}#sk-container-id-8 div.sk-dashed-wrapped {border: 1px dashed gray;margin: 0 0.4em 0.5em 0.4em;box-sizing: border-box;padding-bottom: 0.4em;background-color: white;}#sk-container-id-8 div.sk-label label {font-family: monospace;font-weight: bold;display: inline-block;line-height: 1.2em;}#sk-container-id-8 div.sk-label-container {text-align: center;}#sk-container-id-8 div.sk-container {/* jupyter's `normalize.less` sets `[hidden] { display: none; }` but bootstrap.min.css set `[hidden] { display: none !important; }` so we also need the `!important` here to be able to override the default hidden behavior on the sphinx rendered scikit-learn.org. See: https://github.com/scikit-learn/scikit-learn/issues/21755 */display: inline-block !important;position: relative;}#sk-container-id-8 div.sk-text-repr-fallback {display: none;}</style><div id=\"sk-container-id-8\" class=\"sk-top-container\"><div class=\"sk-text-repr-fallback\"><pre>LinearRegression()</pre><b>In a Jupyter environment, please rerun this cell to show the HTML representation or trust the notebook. <br />On GitHub, the HTML representation is unable to render, please try loading this page with nbviewer.org.</b></div><div class=\"sk-container\" hidden><div class=\"sk-item\"><div class=\"sk-estimator sk-toggleable\"><input class=\"sk-toggleable__control sk-hidden--visually\" id=\"sk-estimator-id-8\" type=\"checkbox\" checked><label for=\"sk-estimator-id-8\" class=\"sk-toggleable__label sk-toggleable__label-arrow\">LinearRegression</label><div class=\"sk-toggleable__content\"><pre>LinearRegression()</pre></div></div></div></div></div>"
      ],
      "text/plain": [
       "LinearRegression()"
      ]
     },
     "execution_count": 39,
     "metadata": {},
     "output_type": "execute_result"
    }
   ],
   "source": [
    "from sklearn.linear_model import LinearRegression\n",
    "\n",
    "# Create and train the Linear Regression model\n",
    "LinearReg = LinearRegression()\n",
    "LinearReg.fit(X_train, Y_train)\n"
   ]
  },
  {
   "cell_type": "markdown",
   "metadata": {},
   "source": [
    "#### Q3) Now use the `predict` method on the testing data (`x_test`) and save it to the array `predictions`.\n"
   ]
  },
  {
   "cell_type": "code",
   "execution_count": 55,
   "metadata": {},
   "outputs": [],
   "source": [
    "predictions = LinearReg.predict(X_test)"
   ]
  },
  {
   "cell_type": "code",
   "execution_count": null,
   "metadata": {},
   "outputs": [],
   "source": [
    "predictions = "
   ]
  },
  {
   "cell_type": "markdown",
   "metadata": {},
   "source": [
    "#### Q4) Using the `predictions` and the `y_test` dataframe calculate the value for each metric using the appropriate function.\n"
   ]
  },
  {
   "cell_type": "code",
   "execution_count": 48,
   "metadata": {},
   "outputs": [
    {
     "name": "stdout",
     "output_type": "stream",
     "text": [
      "Linear Regression MAE: 0.25631340551012344\n",
      "Linear Regression MSE: 0.1157180846684998\n",
      "Linear Regression R^2: 0.4271444743503283\n"
     ]
    }
   ],
   "source": [
    "from sklearn.metrics import mean_absolute_error, mean_squared_error, r2_score\n",
    "\n",
    "LinearRegression_MAE = mean_absolute_error(Y_test, predictions)\n",
    "LinearRegression_MSE = mean_squared_error(Y_test, predictions)\n",
    "LinearRegression_R2 = r2_score(Y_test, predictions)\n",
    "\n",
    "print(\"Linear Regression MAE:\", LinearRegression_MAE)\n",
    "print(\"Linear Regression MSE:\", LinearRegression_MSE)\n",
    "print(\"Linear Regression R^2:\", LinearRegression_R2)\n"
   ]
  },
  {
   "cell_type": "code",
   "execution_count": null,
   "metadata": {},
   "outputs": [],
   "source": [
    "LinearRegression_MAE = \n",
    "LinearRegression_MSE = \n",
    "LinearRegression_R2 = "
   ]
  },
  {
   "cell_type": "markdown",
   "metadata": {},
   "source": [
    "#### Q5) Show the MAE, MSE, and R2 in a tabular format using data frame for the linear model.\n"
   ]
  },
  {
   "cell_type": "code",
   "execution_count": 50,
   "metadata": {},
   "outputs": [
    {
     "name": "stdout",
     "output_type": "stream",
     "text": [
      "                      Metric     Value\n",
      "0  Mean Absolute Error (MAE)  0.256313\n",
      "1   Mean Squared Error (MSE)  0.115718\n",
      "2            R-squared (R^2)  0.427144\n"
     ]
    }
   ],
   "source": [
    "import pandas as pd\n",
    "from sklearn.metrics import mean_absolute_error, mean_squared_error, r2_score\n",
    "\n",
    "LinearRegression_MAE = mean_absolute_error(Y_test, predictions)\n",
    "LinearRegression_MSE = mean_squared_error(Y_test, predictions)\n",
    "LinearRegression_R2 = r2_score(Y_test, predictions)\n",
    "\n",
    "report = pd.DataFrame({\n",
    "    'Metric': ['Mean Absolute Error (MAE)', 'Mean Squared Error (MSE)', 'R-squared (R^2)'],\n",
    "    'Value': [LinearRegression_MAE, LinearRegression_MSE, LinearRegression_R2]\n",
    "})\n",
    "print(report)"
   ]
  },
  {
   "cell_type": "code",
   "execution_count": null,
   "metadata": {},
   "outputs": [],
   "source": [
    "Report = "
   ]
  },
  {
   "cell_type": "markdown",
   "metadata": {},
   "source": [
    "### KNN\n"
   ]
  },
  {
   "cell_type": "markdown",
   "metadata": {},
   "source": [
    "#### Q6) Create and train a KNN model called KNN using the training data (`x_train`, `y_train`) with the `n_neighbors` parameter set to `4`.\n"
   ]
  },
  {
   "cell_type": "code",
   "execution_count": 45,
   "metadata": {},
   "outputs": [
    {
     "data": {
      "text/html": [
       "<style>#sk-container-id-10 {color: black;}#sk-container-id-10 pre{padding: 0;}#sk-container-id-10 div.sk-toggleable {background-color: white;}#sk-container-id-10 label.sk-toggleable__label {cursor: pointer;display: block;width: 100%;margin-bottom: 0;padding: 0.3em;box-sizing: border-box;text-align: center;}#sk-container-id-10 label.sk-toggleable__label-arrow:before {content: \"▸\";float: left;margin-right: 0.25em;color: #696969;}#sk-container-id-10 label.sk-toggleable__label-arrow:hover:before {color: black;}#sk-container-id-10 div.sk-estimator:hover label.sk-toggleable__label-arrow:before {color: black;}#sk-container-id-10 div.sk-toggleable__content {max-height: 0;max-width: 0;overflow: hidden;text-align: left;background-color: #f0f8ff;}#sk-container-id-10 div.sk-toggleable__content pre {margin: 0.2em;color: black;border-radius: 0.25em;background-color: #f0f8ff;}#sk-container-id-10 input.sk-toggleable__control:checked~div.sk-toggleable__content {max-height: 200px;max-width: 100%;overflow: auto;}#sk-container-id-10 input.sk-toggleable__control:checked~label.sk-toggleable__label-arrow:before {content: \"▾\";}#sk-container-id-10 div.sk-estimator input.sk-toggleable__control:checked~label.sk-toggleable__label {background-color: #d4ebff;}#sk-container-id-10 div.sk-label input.sk-toggleable__control:checked~label.sk-toggleable__label {background-color: #d4ebff;}#sk-container-id-10 input.sk-hidden--visually {border: 0;clip: rect(1px 1px 1px 1px);clip: rect(1px, 1px, 1px, 1px);height: 1px;margin: -1px;overflow: hidden;padding: 0;position: absolute;width: 1px;}#sk-container-id-10 div.sk-estimator {font-family: monospace;background-color: #f0f8ff;border: 1px dotted black;border-radius: 0.25em;box-sizing: border-box;margin-bottom: 0.5em;}#sk-container-id-10 div.sk-estimator:hover {background-color: #d4ebff;}#sk-container-id-10 div.sk-parallel-item::after {content: \"\";width: 100%;border-bottom: 1px solid gray;flex-grow: 1;}#sk-container-id-10 div.sk-label:hover label.sk-toggleable__label {background-color: #d4ebff;}#sk-container-id-10 div.sk-serial::before {content: \"\";position: absolute;border-left: 1px solid gray;box-sizing: border-box;top: 0;bottom: 0;left: 50%;z-index: 0;}#sk-container-id-10 div.sk-serial {display: flex;flex-direction: column;align-items: center;background-color: white;padding-right: 0.2em;padding-left: 0.2em;position: relative;}#sk-container-id-10 div.sk-item {position: relative;z-index: 1;}#sk-container-id-10 div.sk-parallel {display: flex;align-items: stretch;justify-content: center;background-color: white;position: relative;}#sk-container-id-10 div.sk-item::before, #sk-container-id-10 div.sk-parallel-item::before {content: \"\";position: absolute;border-left: 1px solid gray;box-sizing: border-box;top: 0;bottom: 0;left: 50%;z-index: -1;}#sk-container-id-10 div.sk-parallel-item {display: flex;flex-direction: column;z-index: 1;position: relative;background-color: white;}#sk-container-id-10 div.sk-parallel-item:first-child::after {align-self: flex-end;width: 50%;}#sk-container-id-10 div.sk-parallel-item:last-child::after {align-self: flex-start;width: 50%;}#sk-container-id-10 div.sk-parallel-item:only-child::after {width: 0;}#sk-container-id-10 div.sk-dashed-wrapped {border: 1px dashed gray;margin: 0 0.4em 0.5em 0.4em;box-sizing: border-box;padding-bottom: 0.4em;background-color: white;}#sk-container-id-10 div.sk-label label {font-family: monospace;font-weight: bold;display: inline-block;line-height: 1.2em;}#sk-container-id-10 div.sk-label-container {text-align: center;}#sk-container-id-10 div.sk-container {/* jupyter's `normalize.less` sets `[hidden] { display: none; }` but bootstrap.min.css set `[hidden] { display: none !important; }` so we also need the `!important` here to be able to override the default hidden behavior on the sphinx rendered scikit-learn.org. See: https://github.com/scikit-learn/scikit-learn/issues/21755 */display: inline-block !important;position: relative;}#sk-container-id-10 div.sk-text-repr-fallback {display: none;}</style><div id=\"sk-container-id-10\" class=\"sk-top-container\"><div class=\"sk-text-repr-fallback\"><pre>KNeighborsClassifier(n_neighbors=4)</pre><b>In a Jupyter environment, please rerun this cell to show the HTML representation or trust the notebook. <br />On GitHub, the HTML representation is unable to render, please try loading this page with nbviewer.org.</b></div><div class=\"sk-container\" hidden><div class=\"sk-item\"><div class=\"sk-estimator sk-toggleable\"><input class=\"sk-toggleable__control sk-hidden--visually\" id=\"sk-estimator-id-10\" type=\"checkbox\" checked><label for=\"sk-estimator-id-10\" class=\"sk-toggleable__label sk-toggleable__label-arrow\">KNeighborsClassifier</label><div class=\"sk-toggleable__content\"><pre>KNeighborsClassifier(n_neighbors=4)</pre></div></div></div></div></div>"
      ],
      "text/plain": [
       "KNeighborsClassifier(n_neighbors=4)"
      ]
     },
     "execution_count": 45,
     "metadata": {},
     "output_type": "execute_result"
    }
   ],
   "source": [
    "from sklearn.neighbors import KNeighborsClassifier\n",
    "\n",
    "KNN = KNeighborsClassifier(n_neighbors=4)\n",
    "KNN.fit(X_train, Y_train)"
   ]
  },
  {
   "cell_type": "code",
   "execution_count": 54,
   "metadata": {},
   "outputs": [
    {
     "name": "stdout",
     "output_type": "stream",
     "text": [
      "Head of Predictions:\n",
      "0    0.131748\n",
      "1    0.276180\n",
      "2    0.978207\n",
      "3    0.287460\n",
      "4    0.132404\n",
      "dtype: float64\n",
      "\n",
      "Tail of Predictions:\n",
      "650    0.264858\n",
      "651    0.175182\n",
      "652    0.706478\n",
      "653    0.173824\n",
      "654    0.344341\n",
      "dtype: float64\n"
     ]
    }
   ],
   "source": [
    "import pandas as pd\n",
    "\n",
    "# Assuming 'predictions' is a NumPy array or a pandas Series\n",
    "predictions_series = pd.Series(predictions)\n",
    "\n",
    "# Print the head (first few elements) of predictions\n",
    "print(\"Head of Predictions:\")\n",
    "print(predictions_series.head())\n",
    "\n",
    "# Print the tail (last few elements) of predictions\n",
    "print(\"\\nTail of Predictions:\")\n",
    "print(predictions_series.tail())\n"
   ]
  },
  {
   "cell_type": "markdown",
   "metadata": {},
   "source": [
    "#### Q7) Now use the `predict` method on the testing data (`x_test`) and save it to the array `predictions`.\n"
   ]
  },
  {
   "cell_type": "code",
   "execution_count": 53,
   "metadata": {},
   "outputs": [
    {
     "name": "stdout",
     "output_type": "stream",
     "text": [
      "[ 1.31748199e-01  2.76180267e-01  9.78206635e-01  2.87460327e-01\n",
      "  1.32404327e-01  4.60483551e-01  3.56761932e-01  8.56510162e-01\n",
      "  6.75052643e-01  3.82308960e-02  4.77218628e-03  2.81192780e-01\n",
      "  3.39092255e-01  7.81059265e-02  6.26106262e-02  5.64426422e-01\n",
      " -6.15959167e-02  5.24196625e-01  1.53652191e-01  3.59748840e-01\n",
      "  6.05201721e-02  9.03572083e-01  4.67304230e-01  2.03426361e-01\n",
      " -7.10487366e-02  3.83899689e-01  5.36113739e-01 -2.28614807e-02\n",
      "  6.40110016e-01 -9.57679749e-02  3.78112793e-01  1.20250702e-01\n",
      " -1.81312561e-02  5.54084778e-02  5.63533783e-01  1.06310654e+00\n",
      " -6.72912598e-03  5.14431000e-01 -8.83712769e-02  6.91947937e-02\n",
      "  2.44865417e-02  8.71788025e-01  2.44640350e-01  3.94714355e-01\n",
      "  2.67551422e-01  4.46842194e-01 -4.76188660e-02  1.89445496e-01\n",
      "  7.76695251e-01  1.57756805e-01  3.88717651e-03 -5.19409180e-02\n",
      "  2.07279205e-01 -2.07912445e-01 -7.60993958e-02  2.49691010e-01\n",
      "  2.79293060e-01  6.02832794e-01  6.29581451e-01  4.90631104e-01\n",
      "  5.64537048e-02  1.05449677e-01  6.69986725e-01  7.64850616e-01\n",
      "  9.84611511e-02 -6.33583069e-02  4.13856506e-01  7.25097656e-02\n",
      "  2.49927521e-01  2.56469727e-01  3.77235413e-02 -6.88819885e-02\n",
      "  3.48209381e-01  1.73088074e-01  4.15454865e-01 -7.25288391e-02\n",
      "  3.41083527e-01  1.87007904e-01 -1.54918671e-01  7.99827576e-01\n",
      "  2.32486725e-01  2.37400055e-01  2.56114960e-01  1.03427887e-01\n",
      "  6.20780945e-01  1.29718781e-01  3.71456146e-01  4.82982635e-01\n",
      "  3.08254242e-01  1.19396210e-01  5.48591614e-02  1.12785339e-01\n",
      " -1.62487030e-01 -1.58088684e-01  7.29026794e-02  7.76393890e-01\n",
      "  8.43200684e-02  6.43135071e-01  1.21799469e-01  1.78058624e-01\n",
      "  3.04889679e-01  1.85420990e-01  1.13149643e+00  3.44486237e-01\n",
      "  8.26969147e-01  5.38894653e-01  2.74265289e-01  6.29409790e-01\n",
      " -6.72874451e-02  9.63615417e-01  5.61965942e-01  2.34794617e-02\n",
      "  1.05609894e-01  9.38034058e-02  8.15696716e-02  2.92076111e-01\n",
      "  5.55107117e-01  6.69364929e-02  4.25682068e-02  8.73565674e-04\n",
      "  1.37645721e-01 -2.18063354e-01  7.01255798e-02  1.19773865e-01\n",
      "  1.92714691e-01 -3.82804871e-02  1.55986786e-01  7.12657928e-01\n",
      "  2.62332916e-01  5.34938812e-01  3.97846222e-01 -4.65431213e-02\n",
      "  2.44022369e-01  2.06302643e-01  2.80380249e-01 -1.28284454e-01\n",
      "  1.19503021e-01  3.83411407e-01  1.84360504e-01  7.28580475e-01\n",
      "  3.31882477e-01 -1.03229523e-01  2.39551544e-01  3.06030273e-01\n",
      "  6.63127899e-01  2.21061707e-02  1.60045624e-01  5.21579742e-01\n",
      " -4.34303284e-02  7.98324585e-01  2.21752167e-01  3.89842987e-01\n",
      " -5.64270020e-02  4.02347565e-01  2.34157562e-01  1.20380402e-01\n",
      "  3.05484772e-01  7.86319733e-01  3.32374573e-02  1.22555161e+00\n",
      "  8.94756317e-01  8.17527771e-02 -1.51710510e-02  1.70978546e-01\n",
      " -6.86836243e-02 -1.07868195e-01 -5.02586365e-02  2.98709869e-01\n",
      "  3.57135773e-01  9.57374573e-02  8.85387421e-01 -3.34663391e-02\n",
      "  5.99246979e-01  8.95652771e-02  9.83734131e-02  3.54145050e-01\n",
      "  2.35958099e-01 -6.73637390e-02  1.44321442e-01  4.17911530e-01\n",
      "  5.87406158e-01  2.16781616e-01 -3.32565308e-02  1.00633621e+00\n",
      "  4.25376892e-02 -1.73072815e-02  2.48287201e-01 -5.94253540e-02\n",
      "  2.22240448e-01 -7.19871521e-02  8.46748352e-02  7.14454651e-02\n",
      "  3.48930359e-02  4.43531036e-01  1.86717987e-01  1.83193207e-01\n",
      "  7.56301880e-02  1.36528015e-02  1.84688568e-01  2.32303619e-01\n",
      "  5.30616760e-01  1.60335541e-01  3.95328522e-01 -4.49142456e-02\n",
      "  8.39298248e-01  1.65596008e-02 -1.70593262e-02 -2.13966370e-02\n",
      "  1.46419525e-01  1.38088226e-01 -3.34854126e-02  4.14890289e-01\n",
      "  6.57329559e-01 -4.90951538e-03  2.85987854e-02  4.60624695e-02\n",
      " -7.21664429e-02  2.73746490e-01  5.28671265e-01 -5.90515137e-02\n",
      "  8.43219757e-01  3.25862885e-01  3.18866730e-01  3.63655090e-02\n",
      " -8.52394104e-02  2.83344269e-01  3.01273346e-01  1.37683868e-01\n",
      "  3.35826874e-01  4.12479401e-01  3.75286102e-01  1.23996735e-01\n",
      "  2.87937164e-01  9.06238556e-01  4.45503235e-01  2.74852753e-01\n",
      " -6.69479370e-03  6.91913605e-01  6.71993256e-01  1.15386963e-01\n",
      "  7.74600983e-01  9.94419098e-01  5.87635040e-01  3.14350128e-01\n",
      "  2.26390839e-01 -4.47578430e-02  2.25994110e-01  2.30571747e-01\n",
      "  3.54965210e-01 -1.26644135e-01  3.51676941e-02  1.82277679e-01\n",
      "  2.15320587e-01  1.76113129e-01 -2.96516418e-02  1.00052643e+00\n",
      "  1.88205719e-01  7.52136230e-01  6.19842529e-01  7.17853546e-01\n",
      "  3.15578461e-01  2.23426819e-02  3.26461792e-01 -6.89315796e-03\n",
      "  2.81566620e-01 -2.27622986e-02  7.99179077e-02 -2.41470337e-03\n",
      "  3.57112885e-01  1.36447906e-01  2.65743256e-01  1.39961243e-02\n",
      "  2.21057892e-01  7.07416534e-01  1.59492493e-01  2.04517365e-01\n",
      "  5.38280487e-01 -1.52641296e-01  2.54825592e-01  2.76443481e-01\n",
      "  2.64076233e-01  6.69059753e-02  9.74414825e-01  1.99962616e-01\n",
      "  7.55809784e-01 -3.49998474e-02  4.87689972e-01  5.87463379e-03\n",
      " -7.25097656e-02  3.05667877e-01 -2.05101013e-01  1.91005707e-01\n",
      " -2.46620178e-02 -7.71827698e-02  2.78964996e-01  7.84225464e-02\n",
      "  2.33905792e-01  4.44847107e-01  6.62345886e-02 -3.31611633e-02\n",
      "  5.83179474e-01  5.78193665e-02  3.20472717e-01  7.24208832e-01\n",
      "  1.35360718e-01 -2.22511292e-02  7.33070374e-01 -3.08361053e-01\n",
      "  1.09146500e+00  2.85915375e-01  8.85074615e-01  6.96643829e-01\n",
      "  5.85262299e-01 -2.22778320e-02  9.52171326e-01  7.15026855e-01\n",
      "  4.48574066e-01  5.80440521e-01  1.87076569e-01  2.29656219e-01\n",
      " -5.77964783e-02  3.15265656e-01  8.74706268e-01 -1.68113708e-02\n",
      "  2.52536774e-01 -3.35655212e-02 -4.40101624e-02  4.13322449e-02\n",
      "  2.35958099e-01  2.03037262e-01  8.82068634e-01  5.87211609e-01\n",
      "  1.20075226e-01 -2.03285217e-02 -1.92909241e-02  1.03530884e-01\n",
      "  8.31985474e-03  2.29175568e-01 -1.69639587e-02  7.14378357e-02\n",
      "  1.62662506e-01  1.70120239e-01  2.46585846e-01  1.47689819e-01\n",
      "  3.91757965e-01 -6.66389465e-02  1.15692139e-01  1.84375763e-01\n",
      "  9.06829834e-02 -1.79824829e-02  2.09316254e-01 -1.29966736e-02\n",
      "  5.46474457e-01  4.15874481e-01  1.78199768e-01  1.71661377e-02\n",
      "  4.93862152e-01  1.47197723e-01  5.24833679e-01  5.98125458e-01\n",
      "  3.08345795e-01  3.09322357e-01  4.46475983e-01  1.68151855e-01\n",
      "  2.60784149e-01  7.56259918e-01  4.06257629e-01  4.90703583e-01\n",
      "  5.14228821e-01 -1.30233765e-01  7.90634155e-02  3.50589752e-01\n",
      "  1.00465775e+00  2.73479462e-01  6.35383606e-01  5.78567505e-01\n",
      "  4.68265533e-01  3.78036499e-03  3.59035492e-01  6.74552917e-02\n",
      " -4.24194336e-02  7.03319550e-01  1.27189636e-01  8.00079346e-01\n",
      "  4.70855713e-01 -1.74293518e-02  2.92549133e-02  5.55183411e-01\n",
      "  5.00984192e-02  1.15245819e-01 -9.73129272e-03  1.47514343e-01\n",
      "  4.71237183e-01 -9.27009583e-02  8.08792114e-02  3.10249329e-02\n",
      "  3.94802094e-01  2.23747253e-01  1.00333023e+00  7.08103180e-01\n",
      "  3.56067657e-01  2.62950897e-01 -2.84004211e-02 -9.60540771e-03\n",
      "  3.08570862e-02  1.41723633e-01  7.82432556e-02  5.12626648e-01\n",
      "  2.04822540e-01  3.11725616e-01  5.28484344e-01  4.61929321e-01\n",
      "  5.35812378e-02  8.17302704e-01  5.33897400e-01 -1.38210297e-01\n",
      "  5.09441376e-01  1.94110870e-01  4.56195831e-01  1.85153961e-01\n",
      "  2.21977234e-01  1.15596771e-01  6.32629395e-02  7.37152100e-02\n",
      "  1.02420807e-01  5.51364899e-01  7.03006744e-01  5.22151947e-01\n",
      "  5.35076141e-01  3.19175720e-02  1.11103058e-01 -1.18663788e-01\n",
      "  5.31871796e-01 -1.74438477e-01  4.54448700e-01  9.74391937e-01\n",
      "  4.18174744e-01 -1.16062164e-01  8.70723724e-01  1.62208557e-01\n",
      "  6.13079071e-01  3.17180634e-01 -7.87086487e-02  4.93976593e-01\n",
      "  7.44960785e-01  6.06269836e-02  6.03370667e-02  2.36827850e-01\n",
      "  5.79235077e-01  1.10691071e-01  3.81839752e-01  6.02260590e-01\n",
      "  5.84182739e-02  2.21805573e-01  3.89007568e-01  6.63784027e-01\n",
      "  1.56105042e-01  3.97342682e-01  5.80165863e-01  5.03826141e-01\n",
      "  1.06445312e-01  1.49761200e-01  2.33226776e-01 -3.36837769e-03\n",
      " -2.86293030e-02  2.65941620e-01  2.60570526e-01 -6.17141724e-02\n",
      "  1.46259308e-01  8.24886322e-01  5.68538666e-01 -9.56611633e-02\n",
      " -1.02512360e-01  8.48884583e-02  1.61621094e-01 -7.93724060e-02\n",
      "  9.44023132e-01  7.94029236e-02  3.38451385e-01  1.57978058e-01\n",
      " -6.93969727e-02  2.15126038e-01  4.78855133e-01  2.15454102e-02\n",
      "  5.34439087e-01  1.42581940e-01 -1.58447266e-01  9.98306274e-03\n",
      "  2.26749420e-01  3.34720612e-01  6.04209900e-02 -2.09770203e-02\n",
      " -1.07891083e-01  3.34293365e-01  5.10169983e-01  3.45939636e-01\n",
      " -8.67576599e-02 -4.99610901e-02  5.05275726e-01  8.22334290e-02\n",
      "  6.74438477e-02  3.23093414e-01  3.38233948e-01  5.37334442e-01\n",
      "  2.91786194e-01  3.30581665e-01 -4.10079956e-02  8.27495575e-01\n",
      "  6.03431702e-01  2.36705780e-01  7.02411652e-01  4.44705963e-01\n",
      "  5.81195831e-01  1.89990997e-01  5.45082092e-02  9.38491821e-02\n",
      " -6.77223206e-02  1.05983734e-01 -2.49671936e-02 -2.94342041e-02\n",
      "  6.55899048e-02  9.60578918e-02  1.03275299e-01  1.77730560e-01\n",
      "  1.02043152e-01  6.64188385e-01  1.97750092e-01  1.04736328e-01\n",
      "  1.13414764e-01 -3.25126648e-02  1.46560669e-01  4.64977264e-01\n",
      "  7.55535126e-01  2.03861237e-01  4.90146637e-01 -1.01356506e-01\n",
      "  6.61708832e-01  7.53482819e-01  9.01111603e-01  7.73036957e-01\n",
      "  2.73395538e-01  2.98057556e-01  1.87175751e-01  7.19905853e-01\n",
      "  2.29808807e-01  3.34693909e-01  8.51665497e-01  3.05595398e-02\n",
      " -3.73077393e-03 -7.82051086e-02  7.49847412e-01  2.04673767e-01\n",
      "  4.06063080e-01  3.32309723e-01  1.82010651e-01  8.23455811e-01\n",
      "  5.03246307e-01  6.34063721e-01 -5.08766174e-02  4.25224304e-02\n",
      "  1.11064911e-01  1.89182281e-01  6.00959778e-01  4.08977509e-01\n",
      "  6.87782288e-01  2.89916992e-01 -9.22126770e-02  4.46739197e-02\n",
      "  1.98913574e-01  6.18946075e-01  1.41876221e-01  6.98932648e-01\n",
      "  3.11920166e-01  1.26838684e-01  8.11534882e-01  6.24275208e-02\n",
      " -1.04496002e-01  6.59599304e-02  1.23661041e-01  5.18711090e-01\n",
      " -5.96885681e-02  6.39774323e-01 -1.30538940e-02  3.83949280e-02\n",
      " -1.04999542e-01  1.96529388e-01  3.36185455e-01  4.87995148e-01\n",
      "  1.93798065e-01  7.93273926e-01  1.69429779e-01  8.55827332e-02\n",
      "  1.68598175e-01  1.73168182e-01  3.23410034e-02  4.69303131e-01\n",
      "  2.03067780e-01  8.46736908e-01  4.20894623e-01  2.17952728e-01\n",
      "  1.81140900e-01  1.54850006e-01  7.26322174e-01  4.45293427e-01\n",
      "  4.87445831e-01  1.01600647e-01  4.13150787e-01 -1.13277435e-01\n",
      "  1.79340363e-01 -9.76943970e-03  1.39080048e-01  1.12018585e-01\n",
      "  6.09645844e-01  2.16255188e-02  1.88240051e-01 -1.35356903e-01\n",
      "  7.06546783e-01  4.33086395e-01 -5.83686829e-02  9.28730011e-01\n",
      "  5.40592194e-01 -1.68991089e-03  9.19052124e-01 -2.19078064e-02\n",
      "  1.65447235e-01  1.77818298e-01  4.72888947e-01 -2.82669067e-03\n",
      "  4.00386810e-01  1.41792297e-02  1.95339203e-01 -6.80236816e-02\n",
      "  5.87322235e-01  1.92455292e-01  2.33314514e-01  2.73670197e-01\n",
      "  9.40746307e-01  7.10166931e-01  1.33373260e-01  7.37266541e-02\n",
      "  5.58128357e-02 -2.26436615e-01  4.10957336e-02  5.16548157e-02\n",
      "  3.10249329e-02  2.93613434e-01  9.69387054e-01  7.98702240e-01\n",
      " -2.29797363e-02  5.26580811e-02  2.64858246e-01  1.75182343e-01\n",
      "  7.06478119e-01  1.73824310e-01  3.44341278e-01]\n"
     ]
    }
   ],
   "source": [
    "predictions = LinearReg.predict(X_test)\n",
    "\n",
    "print(predictions)\n"
   ]
  },
  {
   "cell_type": "markdown",
   "metadata": {},
   "source": [
    "#### Q8) Using the `predictions` and the `y_test` dataframe calculate the value for each metric using the appropriate function.\n"
   ]
  },
  {
   "cell_type": "code",
   "execution_count": 58,
   "metadata": {},
   "outputs": [
    {
     "name": "stdout",
     "output_type": "stream",
     "text": [
      "KNN Accuracy Score: 0.8229007633587786\n",
      "KNN Jaccard Index: 0.48214285714285715\n",
      "KNN F1 Score: 0.6506024096385542\n"
     ]
    }
   ],
   "source": [
    "from sklearn.neighbors import KNeighborsClassifier\n",
    "from sklearn.metrics import accuracy_score, jaccard_score, f1_score\n",
    "\n",
    "KNN_Model = KNeighborsClassifier(n_neighbors=3)  # You can choose the number of neighbors\n",
    "KNN_Model.fit(X_train, Y_train)\n",
    "KNN_Predictions = KNN_Model.predict(X_test)\n",
    "KNN_Accuracy_Score = accuracy_score(Y_test, KNN_Predictions)\n",
    "KNN_JaccardIndex = jaccard_score(Y_test, KNN_Predictions)\n",
    "KNN_F1_Score = f1_score(Y_test, KNN_Predictions)\n",
    "\n",
    "print(\"KNN Accuracy Score:\", KNN_Accuracy_Score)\n",
    "print(\"KNN Jaccard Index:\", KNN_JaccardIndex)\n",
    "print(\"KNN F1 Score:\", KNN_F1_Score)\n",
    "\n"
   ]
  },
  {
   "cell_type": "code",
   "execution_count": null,
   "metadata": {},
   "outputs": [],
   "source": [
    "KNN_Accuracy_Score = \n",
    "KNN_JaccardIndex = \n",
    "KNN_F1_Score = "
   ]
  },
  {
   "cell_type": "markdown",
   "metadata": {},
   "source": [
    "### Decision Tree\n"
   ]
  },
  {
   "cell_type": "markdown",
   "metadata": {},
   "source": [
    "#### Q9) Create and train a Decision Tree model called Tree using the training data (`x_train`, `y_train`).\n"
   ]
  },
  {
   "cell_type": "code",
   "execution_count": 17,
   "metadata": {},
   "outputs": [
    {
     "ename": "NameError",
     "evalue": "name 'X_train' is not defined",
     "output_type": "error",
     "traceback": [
      "\u001b[1;31m---------------------------------------------------------------------------\u001b[0m",
      "\u001b[1;31mNameError\u001b[0m                                 Traceback (most recent call last)",
      "Cell \u001b[1;32mIn[17], line 4\u001b[0m\n\u001b[0;32m      1\u001b[0m \u001b[38;5;28;01mfrom\u001b[39;00m \u001b[38;5;21;01msklearn\u001b[39;00m\u001b[38;5;21;01m.\u001b[39;00m\u001b[38;5;21;01mtree\u001b[39;00m \u001b[38;5;28;01mimport\u001b[39;00m DecisionTreeClassifier\n\u001b[0;32m      3\u001b[0m Tree \u001b[38;5;241m=\u001b[39m DecisionTreeClassifier(random_state\u001b[38;5;241m=\u001b[39m\u001b[38;5;241m10\u001b[39m) \n\u001b[1;32m----> 4\u001b[0m Tree\u001b[38;5;241m.\u001b[39mfit(\u001b[43mX_train\u001b[49m, Y_train)\n",
      "\u001b[1;31mNameError\u001b[0m: name 'X_train' is not defined"
     ]
    }
   ],
   "source": [
    "from sklearn.tree import DecisionTreeClassifier\n",
    "\n",
    "Tree = DecisionTreeClassifier(random_state=10) \n",
    "Tree.fit(X_train, Y_train)\n"
   ]
  },
  {
   "cell_type": "code",
   "execution_count": null,
   "metadata": {},
   "outputs": [],
   "source": [
    "Tree = "
   ]
  },
  {
   "cell_type": "markdown",
   "metadata": {},
   "source": [
    "#### Q10) Now use the `predict` method on the testing data (`x_test`) and save it to the array `predictions`.\n"
   ]
  },
  {
   "cell_type": "code",
   "execution_count": null,
   "metadata": {},
   "outputs": [],
   "source": [
    "#Enter Your Code, Execute and take the Screenshot"
   ]
  },
  {
   "cell_type": "code",
   "execution_count": null,
   "metadata": {},
   "outputs": [],
   "source": [
    "predictions = "
   ]
  },
  {
   "cell_type": "markdown",
   "metadata": {},
   "source": [
    "#### Q11) Using the `predictions` and the `y_test` dataframe calculate the value for each metric using the appropriate function.\n"
   ]
  },
  {
   "cell_type": "code",
   "execution_count": null,
   "metadata": {},
   "outputs": [],
   "source": [
    "#Enter Your Code, Execute and take the Screenshot"
   ]
  },
  {
   "cell_type": "code",
   "execution_count": null,
   "metadata": {},
   "outputs": [],
   "source": [
    "Tree_Accuracy_Score = \n",
    "Tree_JaccardIndex = \n",
    "Tree_F1_Score = "
   ]
  },
  {
   "cell_type": "markdown",
   "metadata": {},
   "source": [
    "### Logistic Regression\n"
   ]
  },
  {
   "cell_type": "markdown",
   "metadata": {},
   "source": [
    "#### Q12) Use the `train_test_split` function to split the `features` and `Y` dataframes with a `test_size` of `0.2` and the `random_state` set to `1`.\n"
   ]
  },
  {
   "cell_type": "code",
   "execution_count": null,
   "metadata": {},
   "outputs": [],
   "source": [
    "#Enter Your Code, Execute and take the Screenshot"
   ]
  },
  {
   "cell_type": "code",
   "execution_count": null,
   "metadata": {},
   "outputs": [],
   "source": [
    "x_train, x_test, y_train, y_test = "
   ]
  },
  {
   "cell_type": "markdown",
   "metadata": {},
   "source": [
    "#### Q13) Create and train a LogisticRegression model called LR using the training data (`x_train`, `y_train`) with the `solver` parameter set to `liblinear`.\n"
   ]
  },
  {
   "cell_type": "code",
   "execution_count": null,
   "metadata": {},
   "outputs": [],
   "source": [
    "#Enter Your Code, Execute and take the Screenshot"
   ]
  },
  {
   "cell_type": "code",
   "execution_count": null,
   "metadata": {},
   "outputs": [],
   "source": [
    "LR = "
   ]
  },
  {
   "cell_type": "markdown",
   "metadata": {},
   "source": [
    "#### Q14) Now, use the `predict` and `predict_proba` methods on the testing data (`x_test`) and save it as 2 arrays `predictions` and `predict_proba`.\n"
   ]
  },
  {
   "cell_type": "code",
   "execution_count": null,
   "metadata": {},
   "outputs": [],
   "source": [
    "#Enter Your Code, Execute and take the Screenshot"
   ]
  },
  {
   "cell_type": "code",
   "execution_count": null,
   "metadata": {},
   "outputs": [],
   "source": [
    "predictions = "
   ]
  },
  {
   "cell_type": "code",
   "execution_count": null,
   "metadata": {},
   "outputs": [],
   "source": [
    "predict_proba = "
   ]
  },
  {
   "cell_type": "markdown",
   "metadata": {},
   "source": [
    "#### Q15) Using the `predictions`, `predict_proba` and the `y_test` dataframe calculate the value for each metric using the appropriate function.\n"
   ]
  },
  {
   "cell_type": "code",
   "execution_count": null,
   "metadata": {},
   "outputs": [],
   "source": [
    "#Enter Your Code, Execute and take the Screenshot"
   ]
  },
  {
   "cell_type": "code",
   "execution_count": null,
   "metadata": {},
   "outputs": [],
   "source": [
    "LR_Accuracy_Score = \n",
    "LR_JaccardIndex = \n",
    "LR_F1_Score = \n",
    "LR_Log_Loss = "
   ]
  },
  {
   "cell_type": "markdown",
   "metadata": {},
   "source": [
    "### SVM\n"
   ]
  },
  {
   "cell_type": "markdown",
   "metadata": {},
   "source": [
    "#### Q16) Create and train a SVM model called SVM using the training data (`x_train`, `y_train`).\n"
   ]
  },
  {
   "cell_type": "code",
   "execution_count": null,
   "metadata": {},
   "outputs": [],
   "source": [
    "#Enter Your Code Below, Execute, and Save the Screenshot of the Final Output"
   ]
  },
  {
   "cell_type": "code",
   "execution_count": null,
   "metadata": {},
   "outputs": [],
   "source": [
    "SVM = "
   ]
  },
  {
   "cell_type": "markdown",
   "metadata": {},
   "source": [
    "#### Q17) Now use the `predict` method on the testing data (`x_test`) and save it to the array `predictions`.\n"
   ]
  },
  {
   "cell_type": "code",
   "execution_count": null,
   "metadata": {},
   "outputs": [],
   "source": [
    "#Enter Your Code Below, Execute, and Save the Screenshot of the Final Output"
   ]
  },
  {
   "cell_type": "code",
   "execution_count": null,
   "metadata": {},
   "outputs": [],
   "source": [
    "predictions = "
   ]
  },
  {
   "cell_type": "markdown",
   "metadata": {},
   "source": [
    "#### Q18) Using the `predictions` and the `y_test` dataframe calculate the value for each metric using the appropriate function.\n"
   ]
  },
  {
   "cell_type": "code",
   "execution_count": null,
   "metadata": {},
   "outputs": [],
   "source": [
    "SVM_Accuracy_Score = \n",
    "SVM_JaccardIndex = \n",
    "SVM_F1_Score = "
   ]
  },
  {
   "cell_type": "markdown",
   "metadata": {},
   "source": [
    "### Report\n"
   ]
  },
  {
   "cell_type": "markdown",
   "metadata": {},
   "source": [
    "#### Q19) Show the Accuracy,Jaccard Index,F1-Score and LogLoss in a tabular format using data frame for all of the above models.\n",
    "\n",
    "\\*LogLoss is only for Logistic Regression Model\n"
   ]
  },
  {
   "cell_type": "code",
   "execution_count": null,
   "metadata": {},
   "outputs": [],
   "source": [
    "Report = "
   ]
  },
  {
   "cell_type": "markdown",
   "metadata": {},
   "source": [
    "<h2 id=\"Section_5\">  How to submit </h2>\n",
    "\n",
    "<p>Once you complete your notebook you will have to share it. You can download the notebook by navigating to \"File\" and clicking on \"Download\" button.\n",
    "\n",
    "<p>This will save the (.ipynb) file on your computer. Once saved, you can upload this file in the \"My Submission\" tab, of the \"Peer-graded Assignment\" section.  \n"
   ]
  },
  {
   "cell_type": "markdown",
   "metadata": {},
   "source": [
    "<h2>About the Authors:</h2> \n",
    "\n",
    "<a href=\"https://www.linkedin.com/in/joseph-s-50398b136/?utm_medium=Exinfluencer&utm_source=Exinfluencer&utm_content=000026UJ&utm_term=10006555&utm_id=NA-SkillsNetwork-Channel-SkillsNetworkCoursesIBMDeveloperSkillsNetworkML0101ENSkillsNetwork20718538-2022-01-01\">Joseph Santarcangelo</a> has a PhD in Electrical Engineering, his research focused on using machine learning, signal processing, and computer vision to determine how videos impact human cognition. Joseph has been working for IBM since he completed his PhD.\n",
    "\n",
    "### Other Contributors\n",
    "\n",
    "[Svitlana Kramar](https://www.linkedin.com/in/svitlana-kramar/?utm_medium=Exinfluencer&utm_source=Exinfluencer&utm_content=000026UJ&utm_term=10006555&utm_id=NA-SkillsNetwork-Channel-SkillsNetworkCoursesIBMML0232ENSkillsNetwork30654641-2022-01-01)\n"
   ]
  },
  {
   "cell_type": "markdown",
   "metadata": {},
   "source": [
    "## Change Log\n",
    "\n",
    "| Date (YYYY-MM-DD) | Version | Changed By    | Change Description          |\n",
    "| ----------------- | ------- | ------------- | --------------------------- |\n",
    "| 2022-06-22        | 2.0     | Svitlana K.   | Deleted GridSearch and Mock |\n",
    "\n",
    "## <h3 align=\"center\"> © IBM Corporation 2020. All rights reserved. <h3/>\n"
   ]
  }
 ],
 "metadata": {
  "kernelspec": {
   "display_name": "Python 3 (ipykernel)",
   "language": "python",
   "name": "python3"
  },
  "language_info": {
   "codemirror_mode": {
    "name": "ipython",
    "version": 3
   },
   "file_extension": ".py",
   "mimetype": "text/x-python",
   "name": "python",
   "nbconvert_exporter": "python",
   "pygments_lexer": "ipython3",
   "version": "3.11.4"
  }
 },
 "nbformat": 4,
 "nbformat_minor": 4
}
